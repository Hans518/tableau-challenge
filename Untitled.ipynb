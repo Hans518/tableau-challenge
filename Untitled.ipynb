{
 "cells": [
  {
   "cell_type": "code",
   "execution_count": null,
   "metadata": {},
   "outputs": [],
   "source": [
    "import os\n",
    "import glob\n",
    "import pandas as pd\n",
    "os. getcwd()\n",
    "#os.chdir('JC-data')"
   ]
  },
  {
   "cell_type": "code",
   "execution_count": null,
   "metadata": {},
   "outputs": [],
   "source": [
    "# Import Test Data\n",
    "nj_data_to_load = \"JC-201801-citibike-tripdata.csv\"\n",
    "ny_data_to_load = \"201801-citibike-tripdata.csv\"\n",
    "nj_bike_data_df = pd.read_csv(nj_data_to_load)\n",
    "ny_bike_data_df = pd.read_csv(ny_data_to_load)\n",
    "\n",
    "bike_data = [ny_bike_data_df, nj_bike_data_df]\n",
    "bike_data_df = pd.concat(bike_data)"
   ]
  },
  {
   "cell_type": "code",
   "execution_count": null,
   "metadata": {},
   "outputs": [],
   "source": [
    "# bike_data_df.to_csv( \"bike_csv.csv\", index=False, encoding='utf-8-sig')\n",
    "stations = bike_data_df[['start station name', 'start station latitude', 'start station longitude']]\n",
    "stations \n",
    "# print(stations)\n",
    "#bike_data_df"
   ]
  },
  {
   "cell_type": "code",
   "execution_count": null,
   "metadata": {},
   "outputs": [],
   "source": [
    "# bike_data_df = bike_data_df.rename(columns={'gender': 'gender_id'})\n",
    "# gender_df = pd.DataFrame({'gender_id': [0,1,2],\n",
    "#                          'gender': ['unknown', 'male', 'female']})\n",
    "# gender_df"
   ]
  },
  {
   "cell_type": "code",
   "execution_count": null,
   "metadata": {},
   "outputs": [],
   "source": [
    "bike_data_df"
   ]
  },
  {
   "cell_type": "code",
   "execution_count": null,
   "metadata": {
    "scrolled": true
   },
   "outputs": [],
   "source": [
    "bike_data_df['starttime'] = pd.to_datetime(bike_data_df['starttime'])\n",
    "bike_data_df['stoptime'] = pd.to_datetime(bike_data_df['stoptime'])\n",
    "\n",
    "months_start = bike_data_df.groupby(['start station name', pd.Grouper(key='starttime', freq='M')]).count()\n",
    "months_stop = bike_data_df.groupby(['end station name', pd.Grouper(key='stoptime', freq='M')]).count()"
   ]
  },
  {
   "cell_type": "code",
   "execution_count": null,
   "metadata": {},
   "outputs": [],
   "source": [
    "months_start.to_csv( \"start_csv.csv\", index=True, encoding='utf-8-sig')\n",
    "months_stop.to_csv( \"stop_csv.csv\", index=True, encoding='utf-8-sig')"
   ]
  },
  {
   "cell_type": "code",
   "execution_count": null,
   "metadata": {},
   "outputs": [],
   "source": [
    "start_data_to_load = \"start_csv.csv\"\n",
    "stop_data_to_load = \"stop_csv.csv\"\n",
    "start_bike_data_df = pd.read_csv(start_data_to_load)\n",
    "stop_bike_data_df = pd.read_csv(stop_data_to_load)"
   ]
  },
  {
   "cell_type": "code",
   "execution_count": null,
   "metadata": {},
   "outputs": [],
   "source": [
    "start_bike_data_df = start_bike_data_df.rename(columns={\"tripduration\" : \"start count\", \"start station name\" : \"station\", \"starttime\" : \"month end date\"})\n",
    "start_bike_data_df = start_bike_data_df.drop(columns=[\"stoptime\", \"start station id\", \"start station latitude\", \"start station longitude\", \"end station id\", \"end station name\", \"end station latitude\", \"end station longitude\", \"bikeid\", \"usertype\", \"birth year\", \"gender\"])\n",
    "start_bike_data_df.to_csv( \"start_csv_edited.csv\", index=True, encoding='utf-8-sig') \n",
    "start_bike_data_df"
   ]
  },
  {
   "cell_type": "code",
   "execution_count": null,
   "metadata": {},
   "outputs": [],
   "source": [
    "stop_bike_data_df = stop_bike_data_df[stop_bike_data_df.stoptime == \"2018-01-31\"]\n",
    "stop_bike_data_df = stop_bike_data_df.rename(columns={\"tripduration\" : \"stop count\", \"end station name\" : \"station\", \"stoptime\" : \"month end date\"})\n",
    "stop_bike_data_df = stop_bike_data_df.drop(columns=[\"starttime\",\"start station name\", \"start station id\", \"start station latitude\", \"start station longitude\", \"end station id\", \"end station latitude\", \"end station longitude\", \"bikeid\", \"usertype\", \"birth year\", \"gender\"])\n",
    "stop_bike_data_df.to_csv( \"stop_csv_edited.csv\", index=True, encoding='utf-8-sig') \n",
    "stop_bike_data_df"
   ]
  },
  {
   "cell_type": "code",
   "execution_count": null,
   "metadata": {},
   "outputs": [],
   "source": [
    "start_stop_counts = pd.merge(start_bike_data_df, stop_bike_data_df, how=\"left\", on=[\"station\", \"station\"])\n",
    "start_stop_counts = start_stop_counts.drop(columns=[\"month end date_y\"])\n",
    "start_stop_counts = start_stop_counts.rename(columns={\"month end date_x\" : \"month end date\"})\n",
    "start_stop_counts"
   ]
  },
  {
   "cell_type": "code",
   "execution_count": null,
   "metadata": {},
   "outputs": [],
   "source": [
    "months_start_count = months_start[\"tripduration\"].copy()\n",
    "months_stop_count= months_stop[\"tripduration\"].copy()"
   ]
  },
  {
   "cell_type": "code",
   "execution_count": null,
   "metadata": {},
   "outputs": [],
   "source": []
  },
  {
   "cell_type": "code",
   "execution_count": null,
   "metadata": {},
   "outputs": [],
   "source": []
  },
  {
   "cell_type": "code",
   "execution_count": null,
   "metadata": {},
   "outputs": [],
   "source": []
  },
  {
   "cell_type": "code",
   "execution_count": null,
   "metadata": {},
   "outputs": [],
   "source": [
    "\n"
   ]
  },
  {
   "cell_type": "code",
   "execution_count": null,
   "metadata": {},
   "outputs": [],
   "source": []
  },
  {
   "cell_type": "code",
   "execution_count": null,
   "metadata": {},
   "outputs": [],
   "source": []
  },
  {
   "cell_type": "code",
   "execution_count": null,
   "metadata": {},
   "outputs": [],
   "source": []
  },
  {
   "cell_type": "code",
   "execution_count": null,
   "metadata": {},
   "outputs": [],
   "source": []
  },
  {
   "cell_type": "code",
   "execution_count": null,
   "metadata": {},
   "outputs": [],
   "source": []
  },
  {
   "cell_type": "code",
   "execution_count": null,
   "metadata": {},
   "outputs": [],
   "source": []
  }
 ],
 "metadata": {
  "kernelspec": {
   "display_name": "Python 3",
   "language": "python",
   "name": "python3"
  },
  "language_info": {
   "codemirror_mode": {
    "name": "ipython",
    "version": 3
   },
   "file_extension": ".py",
   "mimetype": "text/x-python",
   "name": "python",
   "nbconvert_exporter": "python",
   "pygments_lexer": "ipython3",
   "version": "3.7.6"
  }
 },
 "nbformat": 4,
 "nbformat_minor": 4
}
